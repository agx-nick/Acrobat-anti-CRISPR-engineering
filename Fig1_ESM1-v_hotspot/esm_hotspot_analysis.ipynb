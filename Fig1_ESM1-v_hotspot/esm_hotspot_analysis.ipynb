{
 "cells": [
  {
   "cell_type": "code",
   "execution_count": null,
   "id": "1acd22fe",
   "metadata": {},
   "outputs": [],
   "source": [
    "#interpret variant prediciton from esm\n",
    "\n",
    "import pandas as pd\n"
   ]
  },
  {
   "cell_type": "code",
   "execution_count": null,
   "id": "fe06252c",
   "metadata": {},
   "outputs": [],
   "source": [
    "# read in labeled data\n",
    "\n",
    "def read_labeled(in_data):\n",
    "    \n",
    "    in_df = pd.read_csv(in_data, index_col = 0)\n",
    "    print(in_df)\n",
    "    return in_df\n",
    "    \n",
    "read_acrIIa4_v1 = read_labeled(\"\") # provide esm output matrix\n",
    "    "
   ]
  },
  {
   "cell_type": "code",
   "execution_count": null,
   "id": "4aa09d6e",
   "metadata": {},
   "outputs": [],
   "source": [
    "# compute entropy of model predictions\n",
    "\n",
    "from matplotlib import pyplot as plt\n",
    "import numpy as np\n",
    "from scipy.stats import entropy\n",
    "\n",
    "def compute_entropy(in_df, cutoff):\n",
    "    \n",
    "    for index, row in in_df.iterrows():\n",
    "\n",
    "        preds = row[[\"esm1v_t33_650M_UR90S_1\", \"esm1v_t33_650M_UR90S_2\", \"esm1v_t33_650M_UR90S_3\", \"esm1v_t33_650M_UR90S_4\", \n",
    "                    \"esm1v_t33_650M_UR90S_5\"]].values.astype(np.float64) # predictions from ensemble\n",
    "        entrpy = entropy(preds)\n",
    "        if entrpy < cutoff:\n",
    "            print(index)\n",
    "        in_df.loc[index, \"inv_entropy\"] = 1 / entrpy\n",
    "            \n",
    "    plt.hist(in_df[\"inv_entropy\"], bins = 100)\n",
    "    plt.show()\n",
    "\n",
    "    filtered_df = in_df[in_df[\"inv_entropy\"] >= cutoff]\n",
    "\n",
    "    return filtered_df\n",
    "\n",
    "acrIIa4_compute = compute_entropy(read_acrIIa4_v1, 0)\n",
    "    "
   ]
  },
  {
   "cell_type": "code",
   "execution_count": null,
   "id": "006dd076",
   "metadata": {},
   "outputs": [],
   "source": [
    "# plot heatmap of model scores where column is position and index is amino acid substition change\n",
    "\n",
    "import re\n",
    "import seaborn as sns\n",
    "\n",
    "def plt_hmaps(in_df, ref_seq, cutoff):\n",
    "\n",
    "    grep_str = r\"(\\D)([0-9]+)(\\D)\"\n",
    "    \n",
    "    aas = [\"G\", \"P\", \"A\", \"V\", \"L\", \"I\", \"M\", \"C\", \"F\", \"Y\", \"W\", \"H\",\n",
    "          \"K\", \"R\", \"Q\", \"N\", \"E\", \"D\", \"S\", \"T\"]\n",
    "    \n",
    "    sum_score_mut_df = pd.DataFrame(columns = range(cutoff, len(ref_seq)), index = aas)\n",
    "    entrpy_score_mut_df = pd.DataFrame(columns = range(cutoff, len(ref_seq)), index = aas)\n",
    "        \n",
    "    for index, row in in_df.iterrows():\n",
    "\n",
    "        find = re.findall(grep_str, index)[0]\n",
    "        wt_seq = find[0]\n",
    "        pos = int(find[1])\n",
    "        mut_seq = find[2]\n",
    "        sum_scores = row[\"esm1v_t33_650M_UR90S_1\"] + row[\"esm1v_t33_650M_UR90S_2\"] \n",
    "        + row[\"esm1v_t33_650M_UR90S_3\"] + row[\"esm1v_t33_650M_UR90S_4\"] #+ row[\"esm1v_t33_650M_UR90S_5\"]\n",
    "        if pos >= cutoff:\n",
    "            sum_score_mut_df.loc[mut_seq, pos] = sum_scores\n",
    "            entrpy_score_mut_df.loc[mut_seq, pos] = row[\"inv_entropy\"]\n",
    "            \n",
    "    mask_1 = sum_score_mut_df.isnull()\n",
    "    fig, ax = plt.subplots(figsize=(20, 5))\n",
    "    plot_sum_df = sum_score_mut_df.fillna(0)\n",
    "    sns.heatmap(plot_sum_df, mask=mask_1, cmap=\"crest\")\n",
    "    \n",
    "    plt.show()\n",
    "    mask_2 = entrpy_score_mut_df.isnull()\n",
    "    plt_sum_df_2 = entrpy_score_mut_df.fillna(0)\n",
    "    fig, ax = plt.subplots(figsize=(20, 5))\n",
    "    sns.heatmap(plt_sum_df_2, cmap=\"viridis\", mask=mask_2)\n",
    "    \n",
    "    return entrpy_score_mut_df\n",
    "    \n",
    "plt_acrIIa4 = plt_hmaps(acrIIa4_compute, \"MNINDLIREIKNKDYTVKLSGTDSNSITQLIIRVNNDGNEYVISESENESIVEKFISAFKNGWNQEYEDEEEFYNDMQTITLKSELN\", 2)\n"
   ]
  },
  {
   "cell_type": "code",
   "execution_count": null,
   "id": "6b0ad40d",
   "metadata": {
    "scrolled": false
   },
   "outputs": [],
   "source": [
    "## transpose entropy df and plot sum of inverse entropies at each position to show hotspots (can plot above heatmap)\n",
    "\n",
    "def plt_scatter(in_df):\n",
    "\n",
    "    t_df = in_df.T.fillna(0)\n",
    "    row_sum = t_df.sum(axis = 1)\n",
    "    row_max = t_df.max(axis = 1)\n",
    "    t_df[\"sum\"] = row_sum\n",
    "    t_df[\"max\"] = row_max\n",
    "    plt.hist(t_df[\"sum\"])\n",
    "    plt.show()\n",
    "    plt.hist(t_df[\"max\"])\n",
    "    plt.show()\n",
    "    t_df.to_csv(\"\") # write matrix to file for downstream analysis\n",
    "    fig, ax = plt.subplots(figsize=(20, 5))\n",
    "    plt.scatter(t_df.index, t_df[\"sum\"])\n",
    "    plt.plot(t_df.index, t_df[\"sum\"])\n",
    "    \n",
    "    plt.show()\n",
    "    \n",
    "    fig, ax = plt.subplots(figsize=(20, 5))\n",
    "    plt.scatter(t_df.index, t_df[\"max\"])\n",
    "    plt.plot(t_df.index, t_df[\"max\"])\n",
    "\n",
    "acrIIa4_scatter = plt_scatter(plt_acrIIa4)\n"
   ]
  }
 ],
 "metadata": {
  "kernelspec": {
   "display_name": "Python 3 (ipykernel)",
   "language": "python",
   "name": "python3"
  },
  "language_info": {
   "codemirror_mode": {
    "name": "ipython",
    "version": 3
   },
   "file_extension": ".py",
   "mimetype": "text/x-python",
   "name": "python",
   "nbconvert_exporter": "python",
   "pygments_lexer": "ipython3",
   "version": "3.10.9"
  }
 },
 "nbformat": 4,
 "nbformat_minor": 5
}
