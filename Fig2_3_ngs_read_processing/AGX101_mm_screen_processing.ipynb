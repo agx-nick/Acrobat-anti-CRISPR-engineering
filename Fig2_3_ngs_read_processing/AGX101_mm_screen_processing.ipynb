{
 "cells": [
  {
   "cell_type": "code",
   "execution_count": null,
   "id": "82738a49",
   "metadata": {},
   "outputs": [],
   "source": [
    "# read in merged fqs and parse file to extract TAM-target-site-EcoRI-reporter-flanking region\n",
    "# then write these to a fasta file for alignment with reference"
   ]
  },
  {
   "cell_type": "code",
   "execution_count": 1,
   "id": "287cc3f2",
   "metadata": {},
   "outputs": [],
   "source": [
    "import sys"
   ]
  },
  {
   "cell_type": "code",
   "execution_count": null,
   "id": "352934b0",
   "metadata": {},
   "outputs": [],
   "source": [
    "# import all required modules\n",
    "\n",
    "#!{sys.executable} -m pip install biopython\n",
    "!{sys.executable} -m pip install editdistance"
   ]
  },
  {
   "cell_type": "code",
   "execution_count": null,
   "id": "6739bb21",
   "metadata": {},
   "outputs": [],
   "source": [
    "# define sample fns for input and output\n",
    "\n",
    "#t1_fns = {\"/home/ec2-user/ngs_data/MiSeq_PE600_102323/1_cutmg_agx102/AGX_079_S79_L001.extendedFrags.fastq.gz\": \"/home/ec2-user/ngs_data/MiSeq_PE600_102323/2_parse_fasta/agx79.fasta\", \"/home/ec2-user/ngs_data/MiSeq_PE600_102323/1_cutmg_agx102/AGX_080_S80_L001.extendedFrags.fastq.gz\": \"/home/ec2-user/ngs_data/MiSeq_PE600_102323/2_parse_fasta/agx80.fasta\"}\n",
    "#t2_fns = {\"/home/ec2-user/ngs_data/MiSeq_PE600_102323/1_cutmg_agx102/AGX_087_S87_L001.extendedFrags.fastq.gz\": \"/home/ec2-user/ngs_data/MiSeq_PE600_102323/2_parse_fasta/agx87.fasta\", \"/home/ec2-user/ngs_data/MiSeq_PE600_102323/1_cutmg_agx102/AGX_088_S88_L001.extendedFrags.fastq.gz\": \"/home/ec2-user/ngs_data/MiSeq_PE600_102323/2_parse_fasta/agx88.fasta\"}\n",
    "#t3_fns = {\"/home/ec2-user/ngs_data/MiSeq_PE600_102323/1_cutmg_agx102/AGX_095_S95_L001.extendedFrags.fastq.gz\": \"/home/ec2-user/ngs_data/MiSeq_PE600_102323/2_parse_fasta/agx95.fasta\", \"/home/ec2-user/ngs_data/MiSeq_PE600_102323/1_cutmg_agx102/AGX_096_S96_L001.extendedFrags.fastq.gz\": \"/home/ec2-user/ngs_data/MiSeq_PE600_102323/2_parse_fasta/agx96.fasta\"}\n",
    "#t4_fns = {\"/home/ec2-user/ngs_data/MiSeq_PE600_102323/1_cutmg_agx102/AGX_103_S103_L001.extendedFrags.fastq.gz\": \"/home/ec2-user/ngs_data/MiSeq_PE600_102323/2_parse_fasta/agx103.fasta\", \"/home/ec2-user/ngs_data/MiSeq_PE600_102323/1_cutmg_agx102/AGX_104_S104_L001.extendedFrags.fastq.gz\": \"/home/ec2-user/ngs_data/MiSeq_PE600_102323/2_parse_fasta/agx104.fasta\"}\n",
    "#t5_fns = {\"/home/ec2-user/ngs_data/MiSeq_PE600_102323/1_cutmg_agx102/AGX_111_S111_L001.extendedFrags.fastq.gz\": \"/home/ec2-user/ngs_data/MiSeq_PE600_102323/2_parse_fasta/agx111.fasta\", \"/home/ec2-user/ngs_data/MiSeq_PE600_102323/1_cutmg_agx102/AGX_112_S112_L001.extendedFrags.fastq.gz\": \"/home/ec2-user/ngs_data/MiSeq_PE600_102323/2_parse_fasta/agx112.fasta\"}\n",
    "\n"
   ]
  },
  {
   "cell_type": "code",
   "execution_count": 6,
   "id": "f0400e8e",
   "metadata": {},
   "outputs": [],
   "source": [
    "# Path to the reference FASTA file\n",
    "ref_fasta = '/home/ec2-user/ngs_data/MiSeq_PE150_20240412/refs/2024Apr13_mismatch_lib.fa'\n",
    "from collections import defaultdict\n",
    "from Bio import SeqIO\n",
    "import gzip\n",
    "import re\n",
    "from tqdm.notebook import tqdm\n",
    "from Bio.Seq import Seq\n",
    "from Bio.SeqRecord import SeqRecord\n",
    "import os\n",
    "\n",
    "def read_ref_fasta(file_path):\n",
    "    \"\"\"Read a FASTA file and return a dictionary of sequences.\"\"\"\n",
    "    sequences = defaultdict(list)\n",
    "    for record in SeqIO.parse(file_path, \"fasta\"):\n",
    "        #print(record)\n",
    "        sequences[record.id] = str(record.seq)\n",
    "    #print(sequences)\n",
    "    return sequences\n",
    "\n",
    "read_1 = read_ref_fasta(ref_fasta)\n",
    "\n"
   ]
  },
  {
   "cell_type": "code",
   "execution_count": 7,
   "id": "77c269e8",
   "metadata": {},
   "outputs": [
    {
     "name": "stdout",
     "output_type": "stream",
     "text": [
      "defaultdict(<class 'list'>, {'TCCACGTT': 'CAAAGTACgTCCACGTTCTTATGCAGGAGGGAGAGCTTGGCAGGGGGACCGGT', 'TCAGTGAG': 'CAAAGTACgTCAGTGAGCTTATGCTGGAGGGAGAGCTTGGCAGGGGGACCGGT', 'ACTCTCGC': 'CAAAGTACgACTCTCGCCTTATGCCGGAGGGAGAGCTTGGCAGGGGGACCGGT', 'AGACCCGG': 'CAAAGTACgAGACCCGGCTTATGCGAGAGGGAGAGCTTGGCAGGGGGACCGGT', 'TGATCTTC': 'CAAAGTACgTGATCTTCCTTATGCGTGAGGGAGAGCTTGGCAGGGGGACCGGT', 'CGGGTGTA': 'CAAAGTACgCGGGTGTACTTATGCGCGAGGGAGAGCTTGGCAGGGGGACCGGT', 'CGGGACTC': 'CAAAGTACgCGGGACTCCTTATGCGGAAGGGAGAGCTTGGCAGGGGGACCGGT', 'AAGCCATA': 'CAAAGTACgAAGCCATACTTATGCGGTAGGGAGAGCTTGGCAGGGGGACCGGT', 'CATACCCA': 'CAAAGTACgCATACCCACTTATGCGGCAGGGAGAGCTTGGCAGGGGGACCGGT', 'ATGGTTGT': 'CAAAGTACgATGGTTGTCTTATGCGGGTGGGAGAGCTTGGCAGGGGGACCGGT', 'TTCCACGT': 'CAAAGTACgTTCCACGTCTTATGCGGGGGGGAGAGCTTGGCAGGGGGACCGGT', 'CTAAGTGT': 'CAAAGTACgCTAAGTGTCTTATGCGGGACGGAGAGCTTGGCAGGGGGACCGGT', 'TGATTCTA': 'CAAAGTACgTGATTCTACTTATGCGGGAAGGAGAGCTTGGCAGGGGGACCGGT', 'CTGAATGT': 'CAAAGTACgCTGAATGTCTTATGCGGGATGGAGAGCTTGGCAGGGGGACCGGT', 'TTGGGATC': 'CAAAGTACgTTGGGATCCTTATGCGGGAGAGAGAGCTTGGCAGGGGGACCGGT', 'AGAGCAGA': 'CAAAGTACgAGAGCAGACTTATGCGGGAGTGAGAGCTTGGCAGGGGGACCGGT', 'CTCTCGAG': 'CAAAGTACgCTCTCGAGCTTATGCGGGAGCGAGAGCTTGGCAGGGGGACCGGT', 'TGGAGGAG': 'CAAAGTACgTGGAGGAGCTTATGCGGGAGGAAGAGCTTGGCAGGGGGACCGGT', 'ACCACAAT': 'CAAAGTACgACCACAATCTTATGCGGGAGGTAGAGCTTGGCAGGGGGACCGGT', 'ACTTTCAA': 'CAAAGTACgACTTTCAACTTATGCGGGAGGCAGAGCTTGGCAGGGGGACCGGT', 'AGGGTGAA': 'CAAAGTACgAGGGTGAACTTATGCGGGAGGGTGAGCTTGGCAGGGGGACCGGT', 'CGGGCATG': 'CAAAGTACgCGGGCATGCTTATGCGGGAGGGGGAGCTTGGCAGGGGGACCGGT', 'ATAGGCTA': 'CAAAGTACgATAGGCTACTTATGCGGGAGGGCGAGCTTGGCAGGGGGACCGGT', 'CTCCATGC': 'CAAAGTACgCTCCATGCCTTATGCGGGAGGGAAAGCTTGGCAGGGGGACCGGT', 'TCCACCAT': 'CAAAGTACgTCCACCATCTTATGCGGGAGGGATAGCTTGGCAGGGGGACCGGT', 'TTTAGTCC': 'CAAAGTACgTTTAGTCCCTTATGCGGGAGGGACAGCTTGGCAGGGGGACCGGT', 'ACAGCCGC': 'CAAAGTACgACAGCCGCCTTATGCGGGAGGGAGTGCTTGGCAGGGGGACCGGT', 'CAGGTATG': 'CAAAGTACgCAGGTATGCTTATGCGGGAGGGAGGGCTTGGCAGGGGGACCGGT', 'CACAGGCA': 'CAAAGTACgCACAGGCACTTATGCGGGAGGGAGCGCTTGGCAGGGGGACCGGT', 'ATAGGCTG': 'CAAAGTACgATAGGCTGCTTATGCGGGAGGGAGAACTTGGCAGGGGGACCGGT', 'CTTTCGGA': 'CAAAGTACgCTTTCGGACTTATGCGGGAGGGAGATCTTGGCAGGGGGACCGGT', 'TGAACGTA': 'CAAAGTACgTGAACGTACTTATGCGGGAGGGAGACCTTGGCAGGGGGACCGGT', 'TTCTCTCC': 'CAAAGTACgTTCTCTCCCTTATGCGGGAGGGAGAGATTGGCAGGGGGACCGGT', 'AATTCCTC': 'CAAAGTACgAATTCCTCCTTATGCGGGAGGGAGAGTTTGGCAGGGGGACCGGT', 'AGGCTGCG': 'CAAAGTACgAGGCTGCGCTTATGCGGGAGGGAGAGGTTGGCAGGGGGACCGGT', 'CTACTATT': 'CAAAGTACgCTACTATTCTTATGCGGGAGGGAGAGCATGGCAGGGGGACCGGT', 'CACAGATT': 'CAAAGTACgCACAGATTCTTATGCGGGAGGGAGAGCTTGTCAGGGGGACCGGT', 'ACGTAGTG': 'CAAAGTACgACGTAGTGCTTATGCGGGAGGGAGAGCCTGGCAGGGGGACCGGT', 'TGAGCGCA': 'CAAAGTACgTGAGCGCACTTATGCGGGAGGGAGAGCTAGGCAGGGGGACCGGT', 'CACAACAT': 'CAAAGTACgCACAACATCTTATGCGGGAGGGAGAGCTGGGCAGGGGGACCGGT', 'ATCGATGA': 'CAAAGTACgATCGATGACTTATGCGGGAGGGAGAGCTCGGCAGGGGGACCGGT', 'AACCACAT': 'CAAAGTACgAACCACATCTTATGCGGGAGGGAGAGCTTAGCAGGGGGACCGGT', 'CAGGGCTG': 'CAAAGTACgCAGGGCTGCTTATGCGGGAGGGAGAGCTTTGCAGGGGGACCGGT', 'CTTTCGGT': 'CAAAGTACgCTTTCGGTCTTATGCGGGAGGGAGAGCTTCGCAGGGGGACCGGT', 'CATCAAGT': 'CAAAGTACgCATCAAGTCTTATGCGGGAGGGAGAGCTTGACAGGGGGACCGGT', 'CCCATTGC': 'CAAAGTACgCCCATTGCCTTATGCGGGAGGGAGAGCTTGCCAGGGGGACCGGT', 'CTAACTTA': 'CAAAGTACgCTAACTTACTTATGCGGGAGGGAGAGCTTGGAAGGGGGACCGGT', 'TCGGGACT': 'CAAAGTACgTCGGGACTCTTATGCGGGAGGGAGAGCTTGGTAGGGGGACCGGT', 'CCATCACA': 'CAAAGTACgCCATCACACTTATGCGGGAGGGAGAGCTTGGGAGGGGGACCGGT', 'TACTTGTT': 'CAAAGTACgTACTTGTTCTTATGCGGGAGGGAGAGCTTGGCTGGGGGACCGGT', 'CCTCAACC': 'CAAAGTACgCCTCAACCCTTATGCGGGAGGGAGAGCTTGGCGGGGGGACCGGT', 'ACATCGAT': 'CAAAGTACgACATCGATCTTATGCGGGAGGGAGAGCTTGGCCGGGGGACCGGT', 'CTGCGAGC': 'CAAAGTACgCTGCGAGCCTTATGCGGGAGGGAGAGCTTGGCAAGGGGACCGGT', 'CGCATAAT': 'CAAAGTACgCGCATAATCTTATGCGGGAGGGAGAGCTTGGCATGGGGACCGGT', 'TCGACCTC': 'CAAAGTACgTCGACCTCCTTATGCGGGAGGGAGAGCTTGGCACGGGGACCGGT', 'CTCTCGAA': 'CAAAGTACgCTCTCGAACTTATGCGGGAGGGAGAGCTTGGCAGAGGGACCGGT', 'TCGCAGGG': 'CAAAGTACgTCGCAGGGCTTATGCGGGAGGGAGAGCTTGGCAGTGGGACCGGT', 'CATACAGA': 'CAAAGTACgCATACAGACTTATGCGGGAGGGAGAGCTTGGCAGCGGGACCGGT', 'TGGGAAGT': 'CAAAGTACgTGGGAAGTCTTATGCGGGAGGGAGAGCTTGGCAGGAGGACCGGT', 'TCAGCAAT': 'CAAAGTACgTCAGCAATCTTATGCGGGAGGGAGAGCTTGGCAGGTGGACCGGT', 'AAACCCAA': 'CAAAGTACgAAACCCAACTTATGCGGGAGGGAGAGCTTGGCAGGCGGACCGGT', 'TTTGGTTA': 'CAAAGTACgTTTGGTTACTTATGCGGGAGGGAGAGCTTGGCAGGGAGACCGGT', 'TTCACCGA': 'CAAAGTACgTTCACCGACTTATGCGGGAGGGAGAGCTTGGCAGGGTGACCGGT', 'TCATGGAT': 'CAAAGTACgTCATGGATCTTATGCGGGAGGGAGAGCTTGGCAGGGCGACCGGT', 'CTCGAGGT': 'CAAAGTACgCTCGAGGTCTTATGCGGGAGGGAGAGCTTGGCAGGGGAACCGGT', 'AGGTGTTG': 'CAAAGTACgAGGTGTTGCTTATGCGGGAGGGAGAGCTTGGCAGGGGTACCGGT', 'TTCATGTT': 'CAAAGTACgTTCATGTTCTTATGCGGGAGGGAGAGCTTGGCAGGGGCACCGGT', 'CTGCAGGA': 'CAAAGTACgCTGCAGGACTTATGCGGGAGGGAGAGCTTGGCAGGGGGACCGGT'})\n"
     ]
    }
   ],
   "source": [
    "print(read_1)"
   ]
  },
  {
   "cell_type": "code",
   "execution_count": 26,
   "id": "a237153f",
   "metadata": {},
   "outputs": [
    {
     "name": "stdout",
     "output_type": "stream",
     "text": [
      "/home/ec2-user/ngs_data/MiSeq_PE150_20240412/1_cutmg/merged_fastq/HEK_210.extendedFrags.fastq.gz\n"
     ]
    },
    {
     "data": {
      "application/vnd.jupyter.widget-view+json": {
       "model_id": "a3e7e2cf682741ef8b7a47e2562d7871",
       "version_major": 2,
       "version_minor": 0
      },
      "text/plain": [
       "0it [00:00, ?it/s]"
      ]
     },
     "metadata": {},
     "output_type": "display_data"
    },
    {
     "name": "stdout",
     "output_type": "stream",
     "text": [
      "/home/ec2-user/ngs_data/MiSeq_PE150_20240412/1_cutmg/merged_fastq/HEK_211.extendedFrags.fastq.gz\n"
     ]
    },
    {
     "data": {
      "application/vnd.jupyter.widget-view+json": {
       "model_id": "a60c7247106c4d568061c364812223cc",
       "version_major": 2,
       "version_minor": 0
      },
      "text/plain": [
       "0it [00:00, ?it/s]"
      ]
     },
     "metadata": {},
     "output_type": "display_data"
    },
    {
     "name": "stdout",
     "output_type": "stream",
     "text": [
      "/home/ec2-user/ngs_data/MiSeq_PE150_20240412/1_cutmg/merged_fastq/A549_210_extendedFrags.fastq.gz\n"
     ]
    },
    {
     "data": {
      "application/vnd.jupyter.widget-view+json": {
       "model_id": "fc55004f114f4818a07c18b31084494d",
       "version_major": 2,
       "version_minor": 0
      },
      "text/plain": [
       "0it [00:00, ?it/s]"
      ]
     },
     "metadata": {},
     "output_type": "display_data"
    },
    {
     "name": "stdout",
     "output_type": "stream",
     "text": [
      "/home/ec2-user/ngs_data/MiSeq_PE150_20240412/1_cutmg/merged_fastq/A549_211_extendedFrags.fastq.gz\n"
     ]
    },
    {
     "data": {
      "application/vnd.jupyter.widget-view+json": {
       "model_id": "a17c0e30ecca4e08b5a45cfbe2f8df78",
       "version_major": 2,
       "version_minor": 0
      },
      "text/plain": [
       "0it [00:00, ?it/s]"
      ]
     },
     "metadata": {},
     "output_type": "display_data"
    }
   ],
   "source": [
    "# loop through provided in_dir and parse specified fq files and write a split fastq file \n",
    "# based on the error corrected mismatch barcode id\n",
    "\n",
    "from Bio import SeqIO\n",
    "import gzip\n",
    "import re\n",
    "from tqdm.notebook import tqdm\n",
    "from Bio.Seq import Seq\n",
    "from Bio.SeqRecord import SeqRecord\n",
    "import os\n",
    "import Levenshtein\n",
    "import editdistance\n",
    "\n",
    "def fuzzy_match_id(query_id, ref_ids, max_mismatches=0):\n",
    "    \"\"\"Find a matching ID in ref_ids allowing for a certain number of mismatches.\"\"\"\n",
    "    for ref_id in ref_ids:\n",
    "        if editdistance.eval(query_id, ref_id) <= max_mismatches:\n",
    "            return ref_id\n",
    "    return None\n",
    "\n",
    "def parse_fq(in_dir, grep_str, out_dir):\n",
    "    \n",
    "    for filename in os.listdir(in_dir):\n",
    "        \n",
    "        if filename.endswith(\"extendedFrags.fastq.gz\"): # only consider merged reads\n",
    "        \n",
    "            file_path = os.path.join(in_dir, filename)\n",
    "    \n",
    "            with gzip.open(file_path, \"rt\") as handle:\n",
    "\n",
    "                print(file_path)\n",
    "                \n",
    "                record_lst = []\n",
    "                record_dict = defaultdict(list)\n",
    "                \n",
    "                for record in tqdm(SeqIO.parse(handle, \"fastq\")):\n",
    "\n",
    "                    seq = str(record.seq)\n",
    "                    match = re.search(grep_str, seq)\n",
    "\n",
    "                    if match != None:\n",
    "\n",
    "                        #print(match)\n",
    "                        tar_region = re.findall(grep_str, seq)[0]\n",
    "                        mm_bc = tar_region[9:17]\n",
    "                        \n",
    "                        ref_id = fuzzy_match_id(mm_bc, read_1.keys())\n",
    "                        #print(mm_bc)\n",
    "                        #record_id = record.id\n",
    "                        #print(ref_id)\n",
    "                        if ref_id != None:\n",
    "                            record_dict[ref_id].append(record)\n",
    "                        \n",
    "                        #if ref_id != None:\n",
    "                            \n",
    "                        #    out_fp = out_dir + \"/\" + filename.split(\".\")[0] + \"_\" + ref_id + \".fastq\"\n",
    "                        #    with open(out_fp, \"a\") as output_handle:\n",
    "                        #        SeqIO.write(record, output_handle, \"fastq\")\n",
    "                        \n",
    "                for ref_id, record_lst in record_dict.items():\n",
    "                \n",
    "                    out_fp = out_dir + \"/\" + filename.split(\".\")[0] + \"_\" + ref_id + \".fastq\"\n",
    "                    \n",
    "                    with open(out_fp, \"w\") as output_handle:\n",
    "                        \n",
    "                        SeqIO.write(record_lst, output_handle, \"fastq\")\n",
    "                    \n",
    "                \n",
    "                        \n",
    "parse_1 = parse_fq(\"/home/ec2-user/ngs_data/MiSeq_PE150_20240412/1_cutmg/merged_fastq\", \"CAAAGTACG[ATCG]{8}[ATCG]+ACCGGT\",\n",
    "                   \"/home/ec2-user/ngs_data/MiSeq_PE150_20240412/4_split_fq\")\n",
    "\n"
   ]
  },
  {
   "cell_type": "code",
   "execution_count": null,
   "id": "cf807fe9",
   "metadata": {},
   "outputs": [],
   "source": [
    "# loop through provided in_dir and parse specified fq files and output single file with fasta where header specifies\n",
    "# the mismatch id\n",
    "\n",
    "from Bio import SeqIO\n",
    "import gzip\n",
    "import re\n",
    "from tqdm.notebook import tqdm\n",
    "from Bio.Seq import Seq\n",
    "from Bio.SeqRecord import SeqRecord\n",
    "import os\n",
    "import Levenshtein\n",
    "import editdistance\n",
    "\n",
    "def fuzzy_match_id(query_id, ref_ids, max_mismatches=2):\n",
    "    \"\"\"Find a matching ID in ref_ids allowing for a certain number of mismatches.\"\"\"\n",
    "    for ref_id in ref_ids:\n",
    "        if editdistance.eval(query_id, ref_id) <= max_mismatches:\n",
    "            return ref_id\n",
    "    return None\n",
    "\n",
    "def parse_fq(in_dir, grep_str, out_dir):\n",
    "    \n",
    "    for filename in os.listdir(in_dir):\n",
    "        \n",
    "        if filename.endswith(\"extendedFrags.fastq.gz\"): # only consider merged reads\n",
    "        \n",
    "            file_path = os.path.join(in_dir, filename)\n",
    "    \n",
    "            with gzip.open(file_path, \"rt\") as handle:\n",
    "\n",
    "                print(file_path)\n",
    "                \n",
    "                record_lst = []\n",
    "\n",
    "                for record in tqdm(SeqIO.parse(handle, \"fastq\")):\n",
    "\n",
    "                    seq = str(record.seq)\n",
    "                    match = re.search(grep_str, seq)\n",
    "\n",
    "                    if match != None:\n",
    "\n",
    "                        #print(match)\n",
    "                        tar_region = re.findall(grep_str, seq)[0]\n",
    "                        mm_bc = tar_region[9:17]\n",
    "                        ref_id = fuzzy_match_id(mm_bc, read_1.keys())\n",
    "                        #print(mm_bc)\n",
    "                        #record_id = record.id\n",
    "                        #print(ref_id)\n",
    "                        \n",
    "                        if ref_id != None:\n",
    "                            \n",
    "                            new_record = SeqRecord(\n",
    "                                Seq(tar_region),\n",
    "                                id = ref_id)\n",
    "\n",
    "                            #print(record)\n",
    "                            \n",
    "                            record_lst.append(record)\n",
    "                \n",
    "            with open(out_fp, \"w\") as output_handle:\n",
    "                SeqIO.write(record_lst, output_handle, \"fasta\")\n",
    "\n",
    "\n",
    "parse_1 = parse_fq(\"/home/ec2-user/ngs_data/MiSeq_PE150_20240412/1_cutmg/test\", \"CAAAGTACG[ATCG]{8}[ATCG]+ACCGGT\",\n",
    "                   \"/home/ec2-user/ngs_data/MiSeq_PE150_20240412/2_split_fa\")\n",
    "\n"
   ]
  },
  {
   "cell_type": "code",
   "execution_count": 28,
   "id": "081263a8",
   "metadata": {},
   "outputs": [
    {
     "data": {
      "application/vnd.jupyter.widget-view+json": {
       "model_id": "27163d0de9af4c20946ba5a1c783b8ff",
       "version_major": 2,
       "version_minor": 0
      },
      "text/plain": [
       "  0%|          | 0/32 [00:00<?, ?it/s]"
      ]
     },
     "metadata": {},
     "output_type": "display_data"
    },
    {
     "name": "stdout",
     "output_type": "stream",
     "text": [
      "AGX_10_S10_L001\n"
     ]
    },
    {
     "data": {
      "application/vnd.jupyter.widget-view+json": {
       "model_id": "b5f9b77a8e48407f8f4042cbafb741e4",
       "version_major": 2,
       "version_minor": 0
      },
      "text/plain": [
       "  0%|          | 0/106 [00:00<?, ?it/s]"
      ]
     },
     "metadata": {},
     "output_type": "display_data"
    },
    {
     "name": "stdout",
     "output_type": "stream",
     "text": [
      "AGX_21_S21_L001\n"
     ]
    },
    {
     "data": {
      "application/vnd.jupyter.widget-view+json": {
       "model_id": "20694a51a2ed4340859b8955d1f3a97c",
       "version_major": 2,
       "version_minor": 0
      },
      "text/plain": [
       "  0%|          | 0/538 [00:00<?, ?it/s]"
      ]
     },
     "metadata": {},
     "output_type": "display_data"
    },
    {
     "name": "stdout",
     "output_type": "stream",
     "text": [
      "AGX_28_S28_L001\n"
     ]
    },
    {
     "data": {
      "application/vnd.jupyter.widget-view+json": {
       "model_id": "d23cf9b58efa4478a28873661e33d674",
       "version_major": 2,
       "version_minor": 0
      },
      "text/plain": [
       "  0%|          | 0/898 [00:00<?, ?it/s]"
      ]
     },
     "metadata": {},
     "output_type": "display_data"
    },
    {
     "name": "stdout",
     "output_type": "stream",
     "text": [
      "AGX_04_S4_L001\n"
     ]
    },
    {
     "data": {
      "application/vnd.jupyter.widget-view+json": {
       "model_id": "6a889d8e2c554aa292ae2b178a480457",
       "version_major": 2,
       "version_minor": 0
      },
      "text/plain": [
       "  0%|          | 0/2495 [00:00<?, ?it/s]"
      ]
     },
     "metadata": {},
     "output_type": "display_data"
    },
    {
     "name": "stdout",
     "output_type": "stream",
     "text": [
      "AGX_31_S31_L001\n"
     ]
    },
    {
     "data": {
      "application/vnd.jupyter.widget-view+json": {
       "model_id": "c2f699ee491b40bab4df38965afc6c49",
       "version_major": 2,
       "version_minor": 0
      },
      "text/plain": [
       "  0%|          | 0/1418 [00:00<?, ?it/s]"
      ]
     },
     "metadata": {},
     "output_type": "display_data"
    },
    {
     "name": "stdout",
     "output_type": "stream",
     "text": [
      "AGX_24_S24_L001\n"
     ]
    },
    {
     "data": {
      "application/vnd.jupyter.widget-view+json": {
       "model_id": "4c0eef4bd0d446278d3eead9db801631",
       "version_major": 2,
       "version_minor": 0
      },
      "text/plain": [
       "  0%|          | 0/2881 [00:00<?, ?it/s]"
      ]
     },
     "metadata": {},
     "output_type": "display_data"
    },
    {
     "name": "stdout",
     "output_type": "stream",
     "text": [
      "AGX_20_S20_L001\n"
     ]
    },
    {
     "data": {
      "application/vnd.jupyter.widget-view+json": {
       "model_id": "00ceb1a3a35743c2b813fe1f23bc0eec",
       "version_major": 2,
       "version_minor": 0
      },
      "text/plain": [
       "  0%|          | 0/1503 [00:00<?, ?it/s]"
      ]
     },
     "metadata": {},
     "output_type": "display_data"
    },
    {
     "name": "stdout",
     "output_type": "stream",
     "text": [
      "AGX_23_S23_L001\n"
     ]
    },
    {
     "data": {
      "application/vnd.jupyter.widget-view+json": {
       "model_id": "3de34c9324a2433286583d49d13b435f",
       "version_major": 2,
       "version_minor": 0
      },
      "text/plain": [
       "  0%|          | 0/1672 [00:00<?, ?it/s]"
      ]
     },
     "metadata": {},
     "output_type": "display_data"
    },
    {
     "name": "stdout",
     "output_type": "stream",
     "text": [
      "AGX_32_S32_L001\n"
     ]
    },
    {
     "data": {
      "application/vnd.jupyter.widget-view+json": {
       "model_id": "6294b0af3e1545a1b4c48ea1dcbb747d",
       "version_major": 2,
       "version_minor": 0
      },
      "text/plain": [
       "  0%|          | 0/2987 [00:00<?, ?it/s]"
      ]
     },
     "metadata": {},
     "output_type": "display_data"
    },
    {
     "name": "stdout",
     "output_type": "stream",
     "text": [
      "AGX_16_S16_L001\n"
     ]
    },
    {
     "data": {
      "application/vnd.jupyter.widget-view+json": {
       "model_id": "f3274dc6a827432ab387075e05f2c777",
       "version_major": 2,
       "version_minor": 0
      },
      "text/plain": [
       "  0%|          | 0/4396 [00:00<?, ?it/s]"
      ]
     },
     "metadata": {},
     "output_type": "display_data"
    },
    {
     "name": "stdout",
     "output_type": "stream",
     "text": [
      "AGX_26_S26_L001\n"
     ]
    },
    {
     "data": {
      "application/vnd.jupyter.widget-view+json": {
       "model_id": "2e8a4d52b254458e9bd6c5f900542495",
       "version_major": 2,
       "version_minor": 0
      },
      "text/plain": [
       "  0%|          | 0/1671 [00:00<?, ?it/s]"
      ]
     },
     "metadata": {},
     "output_type": "display_data"
    },
    {
     "name": "stdout",
     "output_type": "stream",
     "text": [
      "AGX_14_S14_L001\n"
     ]
    },
    {
     "data": {
      "application/vnd.jupyter.widget-view+json": {
       "model_id": "f5314047a8244afd8ee72278b3ac98df",
       "version_major": 2,
       "version_minor": 0
      },
      "text/plain": [
       "  0%|          | 0/2642 [00:00<?, ?it/s]"
      ]
     },
     "metadata": {},
     "output_type": "display_data"
    },
    {
     "name": "stdout",
     "output_type": "stream",
     "text": [
      "AGX_12_S12_L001\n"
     ]
    },
    {
     "data": {
      "application/vnd.jupyter.widget-view+json": {
       "model_id": "a76f0d3d382b486086399d7ae1cf436c",
       "version_major": 2,
       "version_minor": 0
      },
      "text/plain": [
       "  0%|          | 0/3002 [00:00<?, ?it/s]"
      ]
     },
     "metadata": {},
     "output_type": "display_data"
    },
    {
     "name": "stdout",
     "output_type": "stream",
     "text": [
      "AGX_30_S30_L001\n"
     ]
    },
    {
     "data": {
      "application/vnd.jupyter.widget-view+json": {
       "model_id": "6a3536a1f6584d9c8ce3e633eff571f5",
       "version_major": 2,
       "version_minor": 0
      },
      "text/plain": [
       "  0%|          | 0/2371 [00:00<?, ?it/s]"
      ]
     },
     "metadata": {},
     "output_type": "display_data"
    },
    {
     "name": "stdout",
     "output_type": "stream",
     "text": [
      "AGX_29_S29_L001\n"
     ]
    },
    {
     "data": {
      "application/vnd.jupyter.widget-view+json": {
       "model_id": "ba163a5e86d54829bd2e89d4d23806a1",
       "version_major": 2,
       "version_minor": 0
      },
      "text/plain": [
       "  0%|          | 0/2428 [00:00<?, ?it/s]"
      ]
     },
     "metadata": {},
     "output_type": "display_data"
    },
    {
     "name": "stdout",
     "output_type": "stream",
     "text": [
      "AGX_15_S15_L001\n"
     ]
    },
    {
     "data": {
      "application/vnd.jupyter.widget-view+json": {
       "model_id": "d06173b775f543ca923147640fd790a4",
       "version_major": 2,
       "version_minor": 0
      },
      "text/plain": [
       "  0%|          | 0/3320 [00:00<?, ?it/s]"
      ]
     },
     "metadata": {},
     "output_type": "display_data"
    },
    {
     "name": "stdout",
     "output_type": "stream",
     "text": [
      "AGX_19_S19_L001\n"
     ]
    },
    {
     "data": {
      "application/vnd.jupyter.widget-view+json": {
       "model_id": "d0ec0bb8f50a4f739a0f2397e4339d23",
       "version_major": 2,
       "version_minor": 0
      },
      "text/plain": [
       "  0%|          | 0/3398 [00:00<?, ?it/s]"
      ]
     },
     "metadata": {},
     "output_type": "display_data"
    },
    {
     "name": "stdout",
     "output_type": "stream",
     "text": [
      "AGX_17_S17_L001\n"
     ]
    },
    {
     "data": {
      "application/vnd.jupyter.widget-view+json": {
       "model_id": "024b3d9417964d77ab471601f0df45e2",
       "version_major": 2,
       "version_minor": 0
      },
      "text/plain": [
       "  0%|          | 0/3606 [00:00<?, ?it/s]"
      ]
     },
     "metadata": {},
     "output_type": "display_data"
    },
    {
     "name": "stdout",
     "output_type": "stream",
     "text": [
      "AGX_27_S27_L001\n"
     ]
    },
    {
     "data": {
      "application/vnd.jupyter.widget-view+json": {
       "model_id": "c29cce3648bb45e0bbcf12e228c53095",
       "version_major": 2,
       "version_minor": 0
      },
      "text/plain": [
       "  0%|          | 0/3860 [00:00<?, ?it/s]"
      ]
     },
     "metadata": {},
     "output_type": "display_data"
    },
    {
     "name": "stdout",
     "output_type": "stream",
     "text": [
      "AGX_22_S22_L001\n"
     ]
    },
    {
     "data": {
      "application/vnd.jupyter.widget-view+json": {
       "model_id": "91d3463bc4c14506adf6d876aad09db2",
       "version_major": 2,
       "version_minor": 0
      },
      "text/plain": [
       "  0%|          | 0/3925 [00:00<?, ?it/s]"
      ]
     },
     "metadata": {},
     "output_type": "display_data"
    },
    {
     "name": "stdout",
     "output_type": "stream",
     "text": [
      "AGX_25_S25_L001\n"
     ]
    },
    {
     "data": {
      "application/vnd.jupyter.widget-view+json": {
       "model_id": "6df7925c5a294c4ab135c3cc5c53afc2",
       "version_major": 2,
       "version_minor": 0
      },
      "text/plain": [
       "  0%|          | 0/4783 [00:00<?, ?it/s]"
      ]
     },
     "metadata": {},
     "output_type": "display_data"
    },
    {
     "name": "stdout",
     "output_type": "stream",
     "text": [
      "AGX_13_S13_L001\n"
     ]
    },
    {
     "data": {
      "application/vnd.jupyter.widget-view+json": {
       "model_id": "1f64f3f678054ee1bf89caf0ddc2a943",
       "version_major": 2,
       "version_minor": 0
      },
      "text/plain": [
       "  0%|          | 0/8266 [00:00<?, ?it/s]"
      ]
     },
     "metadata": {},
     "output_type": "display_data"
    },
    {
     "name": "stdout",
     "output_type": "stream",
     "text": [
      "AGX_05_S5_L001\n"
     ]
    },
    {
     "data": {
      "application/vnd.jupyter.widget-view+json": {
       "model_id": "a8fefd13a6d34fa19b9d81f97344869c",
       "version_major": 2,
       "version_minor": 0
      },
      "text/plain": [
       "  0%|          | 0/7718 [00:00<?, ?it/s]"
      ]
     },
     "metadata": {},
     "output_type": "display_data"
    },
    {
     "name": "stdout",
     "output_type": "stream",
     "text": [
      "AGX_08_S8_L001\n"
     ]
    },
    {
     "data": {
      "application/vnd.jupyter.widget-view+json": {
       "model_id": "a326b3e22ca94f5d994a4a639ee360ad",
       "version_major": 2,
       "version_minor": 0
      },
      "text/plain": [
       "  0%|          | 0/12967 [00:00<?, ?it/s]"
      ]
     },
     "metadata": {},
     "output_type": "display_data"
    },
    {
     "name": "stdout",
     "output_type": "stream",
     "text": [
      "AGX_18_S18_L001\n"
     ]
    },
    {
     "data": {
      "application/vnd.jupyter.widget-view+json": {
       "model_id": "056421570c0043d1a0759984970abd3f",
       "version_major": 2,
       "version_minor": 0
      },
      "text/plain": [
       "  0%|          | 0/5786 [00:00<?, ?it/s]"
      ]
     },
     "metadata": {},
     "output_type": "display_data"
    },
    {
     "name": "stdout",
     "output_type": "stream",
     "text": [
      "AGX_11_S11_L001\n"
     ]
    },
    {
     "data": {
      "application/vnd.jupyter.widget-view+json": {
       "model_id": "99a0e30fa697467ca14552cf0fa03656",
       "version_major": 2,
       "version_minor": 0
      },
      "text/plain": [
       "  0%|          | 0/7349 [00:00<?, ?it/s]"
      ]
     },
     "metadata": {},
     "output_type": "display_data"
    },
    {
     "name": "stdout",
     "output_type": "stream",
     "text": [
      "AGX_02_S2_L001\n"
     ]
    },
    {
     "data": {
      "application/vnd.jupyter.widget-view+json": {
       "model_id": "2257355ac74d4d6bb207b02202fc43af",
       "version_major": 2,
       "version_minor": 0
      },
      "text/plain": [
       "  0%|          | 0/7036 [00:00<?, ?it/s]"
      ]
     },
     "metadata": {},
     "output_type": "display_data"
    },
    {
     "name": "stdout",
     "output_type": "stream",
     "text": [
      "AGX_06_S6_L001\n"
     ]
    },
    {
     "data": {
      "application/vnd.jupyter.widget-view+json": {
       "model_id": "27d9021d57b74cc495016b391a347ba3",
       "version_major": 2,
       "version_minor": 0
      },
      "text/plain": [
       "  0%|          | 0/10721 [00:00<?, ?it/s]"
      ]
     },
     "metadata": {},
     "output_type": "display_data"
    },
    {
     "name": "stdout",
     "output_type": "stream",
     "text": [
      "AGX_09_S9_L001\n"
     ]
    },
    {
     "data": {
      "application/vnd.jupyter.widget-view+json": {
       "model_id": "4e10deaec15647299297161a8ede23b8",
       "version_major": 2,
       "version_minor": 0
      },
      "text/plain": [
       "  0%|          | 0/9505 [00:00<?, ?it/s]"
      ]
     },
     "metadata": {},
     "output_type": "display_data"
    },
    {
     "name": "stdout",
     "output_type": "stream",
     "text": [
      "AGX_03_S3_L001\n"
     ]
    },
    {
     "data": {
      "application/vnd.jupyter.widget-view+json": {
       "model_id": "77905dd3def04a2fa37e431c312ea03c",
       "version_major": 2,
       "version_minor": 0
      },
      "text/plain": [
       "  0%|          | 0/9413 [00:00<?, ?it/s]"
      ]
     },
     "metadata": {},
     "output_type": "display_data"
    },
    {
     "name": "stdout",
     "output_type": "stream",
     "text": [
      "AGX_07_S7_L001\n"
     ]
    },
    {
     "data": {
      "application/vnd.jupyter.widget-view+json": {
       "model_id": "b1731c688c88439a847fc91a62e1d7d8",
       "version_major": 2,
       "version_minor": 0
      },
      "text/plain": [
       "  0%|          | 0/11197 [00:00<?, ?it/s]"
      ]
     },
     "metadata": {},
     "output_type": "display_data"
    },
    {
     "name": "stdout",
     "output_type": "stream",
     "text": [
      "AGX_01_S1_L001\n"
     ]
    },
    {
     "data": {
      "application/vnd.jupyter.widget-view+json": {
       "model_id": "89a8ec3598eb4822bcfa89b1eefc61ea",
       "version_major": 2,
       "version_minor": 0
      },
      "text/plain": [
       "  0%|          | 0/14034 [00:00<?, ?it/s]"
      ]
     },
     "metadata": {},
     "output_type": "display_data"
    },
    {
     "name": "stderr",
     "output_type": "stream",
     "text": [
      "IOPub data rate exceeded.\n",
      "The notebook server will temporarily stop sending output\n",
      "to the client in order to avoid crashing it.\n",
      "To change this limit, set the config variable\n",
      "`--NotebookApp.iopub_data_rate_limit`.\n",
      "\n",
      "Current values:\n",
      "NotebookApp.iopub_data_rate_limit=1000000.0 (bytes/sec)\n",
      "NotebookApp.rate_limit_window=3.0 (secs)\n",
      "\n"
     ]
    }
   ],
   "source": [
    "# now read in the parsed query fasta and the reference fasta\n",
    "# based on the mismatch-bc, compute the LD and use as a proxy for editing efficiency\n",
    "\n",
    "from Bio import SeqIO\n",
    "import Levenshtein\n",
    "from tqdm.notebook import tqdm\n",
    "import os\n",
    "from Bio import SeqIO\n",
    "import Levenshtein\n",
    "import editdistance\n",
    "from collections import defaultdict\n",
    "import re\n",
    "\n",
    "out_dict = {}\n",
    "\n",
    "def read_fasta(file_path):\n",
    "    \"\"\"Read a FASTA file and return a dictionary of sequences.\"\"\"\n",
    "    sequences = defaultdict(list)\n",
    "    for record in SeqIO.parse(file_path, \"fasta\"):\n",
    "        #print(record)\n",
    "        sequences[record.id].append(str(record.seq))\n",
    "    #print(sequences)\n",
    "    return sequences\n",
    "\n",
    "def fuzzy_match_id(query_id, ref_ids, max_mismatches=2):\n",
    "    \"\"\"Find a matching ID in ref_ids allowing for a certain number of mismatches.\"\"\"\n",
    "    for ref_id in ref_ids:\n",
    "        if editdistance.eval(query_id, ref_id) <= max_mismatches:\n",
    "            return ref_id\n",
    "    return None\n",
    "\n",
    "def calculate_levenshtein(ref_sequences, query_sequences):\n",
    "    \"\"\"Calculate Levenshtein distance between reference and query sequences.\"\"\"\n",
    "    grep_str = r\"CTTATGC[ATCG]+ACCGGT\"\n",
    "    results = defaultdict(list)\n",
    "    for query_id, query_seq_lst in tqdm(query_sequences.items()):\n",
    "        ref_id = fuzzy_match_id(query_id, ref_sequences.keys())\n",
    "        if ref_id:\n",
    "            \n",
    "            #print(len(query_seq_lst)) # number of reads that are assigned to a mismatch ref id\n",
    "            \n",
    "            for query_seq in query_seq_lst:\n",
    "\n",
    "                    ref_seq = ref_sequences[ref_id][0]\n",
    "                    #print(ref_seq)\n",
    "                    tar_ref_seq = re.findall(grep_str, ref_seq)[0][7:-6]\n",
    "                    #tar_ref_seq = ref_seq[0][25:-6]\n",
    "                    #print(tar_ref_seq)\n",
    "                    tar_query_seq = query_seq[24:-6]\n",
    "                    #print(tar_query_seq)\n",
    "                    if len(tar_ref_seq) != len(tar_query_seq): # only consider reads with indels\n",
    "                        \n",
    "                        ld = Levenshtein.distance(tar_ref_seq.upper(), tar_query_seq.upper())\n",
    "                        results[ref_id].append(ld)\n",
    "                        #print(ref_id)\n",
    "                        #print(tar_ref_seq)\n",
    "                        #print(tar_query_seq)\n",
    "                        #print(ld)\n",
    "                        \n",
    "                    else:\n",
    "                        \n",
    "                        ld = 0\n",
    "                        results[ref_id].append(ld)\n",
    "\n",
    "        #else:\n",
    "        #    results[query_id] = (None, None)  # No corresponding reference sequence found\n",
    "    \n",
    "    #print(results)\n",
    "    \n",
    "    out_dict[filename] = results\n",
    "    #return results\n",
    "\n",
    "# Path to the reference FASTA file\n",
    "ref_fasta = '/home/ec2-user/ngs_data/MiSeq_PE150_20240412/refs/2024Apr13_mismatch_lib.fa'\n",
    "# Path to the directory containing query FASTA files\n",
    "query_directory = '/home/ec2-user/ngs_data/MiSeq_PE150_20240412/2_parse'\n",
    "\n",
    "# Read the reference sequences\n",
    "ref_sequences = read_fasta(ref_fasta)\n",
    "#print(ref_sequences)\n",
    "\n",
    "# Loop through all files in the directory containing query FASTA files\n",
    "for filename in tqdm(os.listdir(query_directory)):\n",
    "    if filename.endswith(\"L001\"):  # Ensure processing only FASTA files\n",
    "        print(filename)\n",
    "        file_path = os.path.join(query_directory, filename)\n",
    "        query_sequences = read_fasta(file_path)\n",
    "        #print(query_sequences)\n",
    "        levenshtein_distances = calculate_levenshtein(ref_sequences, query_sequences)\n",
    "        #print(f\"Levenshtein distances for {filename}:\")\n",
    "        #for seq_id, ld in levenshtein_distances.items():\n",
    "        #    if ld is not None:\n",
    "        #        print(f\"  {seq_id}: {ld}\")\n",
    "        #    else:\n",
    "        #        print(f\"  {seq_id}: Reference sequence not found\")\n",
    "        \n",
    "\n",
    "print(out_dict)\n"
   ]
  },
  {
   "cell_type": "code",
   "execution_count": 29,
   "id": "ec409100",
   "metadata": {},
   "outputs": [
    {
     "name": "stderr",
     "output_type": "stream",
     "text": [
      "/tmp/ipykernel_11378/3680186298.py:8: FutureWarning: The default dtype for empty Series will be 'object' instead of 'float64' in a future version. Specify a dtype explicitly to silence this warning.\n",
      "  sample_sries = pd.Series()\n",
      "/tmp/ipykernel_11378/3680186298.py:8: FutureWarning: The default dtype for empty Series will be 'object' instead of 'float64' in a future version. Specify a dtype explicitly to silence this warning.\n",
      "  sample_sries = pd.Series()\n",
      "/tmp/ipykernel_11378/3680186298.py:8: FutureWarning: The default dtype for empty Series will be 'object' instead of 'float64' in a future version. Specify a dtype explicitly to silence this warning.\n",
      "  sample_sries = pd.Series()\n",
      "/tmp/ipykernel_11378/3680186298.py:8: FutureWarning: The default dtype for empty Series will be 'object' instead of 'float64' in a future version. Specify a dtype explicitly to silence this warning.\n",
      "  sample_sries = pd.Series()\n",
      "/tmp/ipykernel_11378/3680186298.py:8: FutureWarning: The default dtype for empty Series will be 'object' instead of 'float64' in a future version. Specify a dtype explicitly to silence this warning.\n",
      "  sample_sries = pd.Series()\n",
      "/tmp/ipykernel_11378/3680186298.py:8: FutureWarning: The default dtype for empty Series will be 'object' instead of 'float64' in a future version. Specify a dtype explicitly to silence this warning.\n",
      "  sample_sries = pd.Series()\n",
      "/tmp/ipykernel_11378/3680186298.py:8: FutureWarning: The default dtype for empty Series will be 'object' instead of 'float64' in a future version. Specify a dtype explicitly to silence this warning.\n",
      "  sample_sries = pd.Series()\n",
      "/tmp/ipykernel_11378/3680186298.py:8: FutureWarning: The default dtype for empty Series will be 'object' instead of 'float64' in a future version. Specify a dtype explicitly to silence this warning.\n",
      "  sample_sries = pd.Series()\n",
      "/tmp/ipykernel_11378/3680186298.py:8: FutureWarning: The default dtype for empty Series will be 'object' instead of 'float64' in a future version. Specify a dtype explicitly to silence this warning.\n",
      "  sample_sries = pd.Series()\n",
      "/tmp/ipykernel_11378/3680186298.py:8: FutureWarning: The default dtype for empty Series will be 'object' instead of 'float64' in a future version. Specify a dtype explicitly to silence this warning.\n",
      "  sample_sries = pd.Series()\n",
      "/tmp/ipykernel_11378/3680186298.py:8: FutureWarning: The default dtype for empty Series will be 'object' instead of 'float64' in a future version. Specify a dtype explicitly to silence this warning.\n",
      "  sample_sries = pd.Series()\n",
      "/tmp/ipykernel_11378/3680186298.py:8: FutureWarning: The default dtype for empty Series will be 'object' instead of 'float64' in a future version. Specify a dtype explicitly to silence this warning.\n",
      "  sample_sries = pd.Series()\n",
      "/tmp/ipykernel_11378/3680186298.py:8: FutureWarning: The default dtype for empty Series will be 'object' instead of 'float64' in a future version. Specify a dtype explicitly to silence this warning.\n",
      "  sample_sries = pd.Series()\n",
      "/tmp/ipykernel_11378/3680186298.py:8: FutureWarning: The default dtype for empty Series will be 'object' instead of 'float64' in a future version. Specify a dtype explicitly to silence this warning.\n",
      "  sample_sries = pd.Series()\n",
      "/tmp/ipykernel_11378/3680186298.py:8: FutureWarning: The default dtype for empty Series will be 'object' instead of 'float64' in a future version. Specify a dtype explicitly to silence this warning.\n",
      "  sample_sries = pd.Series()\n",
      "/tmp/ipykernel_11378/3680186298.py:8: FutureWarning: The default dtype for empty Series will be 'object' instead of 'float64' in a future version. Specify a dtype explicitly to silence this warning.\n",
      "  sample_sries = pd.Series()\n",
      "/tmp/ipykernel_11378/3680186298.py:8: FutureWarning: The default dtype for empty Series will be 'object' instead of 'float64' in a future version. Specify a dtype explicitly to silence this warning.\n",
      "  sample_sries = pd.Series()\n",
      "/tmp/ipykernel_11378/3680186298.py:8: FutureWarning: The default dtype for empty Series will be 'object' instead of 'float64' in a future version. Specify a dtype explicitly to silence this warning.\n",
      "  sample_sries = pd.Series()\n",
      "/tmp/ipykernel_11378/3680186298.py:8: FutureWarning: The default dtype for empty Series will be 'object' instead of 'float64' in a future version. Specify a dtype explicitly to silence this warning.\n",
      "  sample_sries = pd.Series()\n",
      "/tmp/ipykernel_11378/3680186298.py:8: FutureWarning: The default dtype for empty Series will be 'object' instead of 'float64' in a future version. Specify a dtype explicitly to silence this warning.\n",
      "  sample_sries = pd.Series()\n",
      "/tmp/ipykernel_11378/3680186298.py:8: FutureWarning: The default dtype for empty Series will be 'object' instead of 'float64' in a future version. Specify a dtype explicitly to silence this warning.\n",
      "  sample_sries = pd.Series()\n",
      "/tmp/ipykernel_11378/3680186298.py:8: FutureWarning: The default dtype for empty Series will be 'object' instead of 'float64' in a future version. Specify a dtype explicitly to silence this warning.\n",
      "  sample_sries = pd.Series()\n",
      "/tmp/ipykernel_11378/3680186298.py:8: FutureWarning: The default dtype for empty Series will be 'object' instead of 'float64' in a future version. Specify a dtype explicitly to silence this warning.\n",
      "  sample_sries = pd.Series()\n",
      "/tmp/ipykernel_11378/3680186298.py:8: FutureWarning: The default dtype for empty Series will be 'object' instead of 'float64' in a future version. Specify a dtype explicitly to silence this warning.\n",
      "  sample_sries = pd.Series()\n",
      "/tmp/ipykernel_11378/3680186298.py:8: FutureWarning: The default dtype for empty Series will be 'object' instead of 'float64' in a future version. Specify a dtype explicitly to silence this warning.\n",
      "  sample_sries = pd.Series()\n",
      "/tmp/ipykernel_11378/3680186298.py:8: FutureWarning: The default dtype for empty Series will be 'object' instead of 'float64' in a future version. Specify a dtype explicitly to silence this warning.\n",
      "  sample_sries = pd.Series()\n",
      "/tmp/ipykernel_11378/3680186298.py:8: FutureWarning: The default dtype for empty Series will be 'object' instead of 'float64' in a future version. Specify a dtype explicitly to silence this warning.\n",
      "  sample_sries = pd.Series()\n",
      "/tmp/ipykernel_11378/3680186298.py:8: FutureWarning: The default dtype for empty Series will be 'object' instead of 'float64' in a future version. Specify a dtype explicitly to silence this warning.\n",
      "  sample_sries = pd.Series()\n",
      "/tmp/ipykernel_11378/3680186298.py:8: FutureWarning: The default dtype for empty Series will be 'object' instead of 'float64' in a future version. Specify a dtype explicitly to silence this warning.\n",
      "  sample_sries = pd.Series()\n",
      "/tmp/ipykernel_11378/3680186298.py:8: FutureWarning: The default dtype for empty Series will be 'object' instead of 'float64' in a future version. Specify a dtype explicitly to silence this warning.\n",
      "  sample_sries = pd.Series()\n",
      "/tmp/ipykernel_11378/3680186298.py:8: FutureWarning: The default dtype for empty Series will be 'object' instead of 'float64' in a future version. Specify a dtype explicitly to silence this warning.\n",
      "  sample_sries = pd.Series()\n"
     ]
    },
    {
     "name": "stdout",
     "output_type": "stream",
     "text": [
      "          AGX_10_S10_L001  AGX_21_S21_L001  AGX_28_S28_L001  AGX_04_S4_L001  \\\n",
      "AAACCCAA         0.250000         0.375000         0.378336        0.243478   \n",
      "AACCACAT              NaN         0.400000         0.200000        0.146341   \n",
      "AAGCCATA         0.200000         0.347150         0.382304        0.377065   \n",
      "AATTCCTC         0.285714         0.448529         0.431515        0.355699   \n",
      "ACAGCCGC         0.142857         0.319444         0.278539        0.226138   \n",
      "...                   ...              ...              ...             ...   \n",
      "TTCCACGT              NaN         0.375000         0.173913        0.073529   \n",
      "TTCTCTCC         0.250000         0.317647         0.496718        0.266169   \n",
      "TTGGGATC         0.300000         0.205607         0.274322        0.448240   \n",
      "TTTAGTCC         0.125000         0.222222         0.270588        0.323599   \n",
      "TTTGGTTA         0.375000         0.384615         0.337778        0.223469   \n",
      "\n",
      "          AGX_31_S31_L001  AGX_24_S24_L001  AGX_20_S20_L001  AGX_23_S23_L001  \\\n",
      "AAACCCAA         0.004455         0.028969         0.390146         0.004441   \n",
      "AACCACAT         0.709091         0.022727         0.810811         0.721519   \n",
      "AAGCCATA         0.114286         0.030459         0.383056         0.119472   \n",
      "AATTCCTC         0.105362         0.129721         0.372504         0.134092   \n",
      "ACAGCCGC         0.032271         0.010309         0.340093         0.035119   \n",
      "...                   ...              ...              ...              ...   \n",
      "TTCCACGT         0.041096         0.040323         0.191489         0.045455   \n",
      "TTCTCTCC         0.048866         0.099852         0.390669         0.047779   \n",
      "TTGGGATC         0.058713         0.087960         0.266187         0.076162   \n",
      "TTTAGTCC         0.065357         0.046815         0.247877         0.064735   \n",
      "TTTGGTTA         0.082594         0.043653         0.424223         0.102883   \n",
      "\n",
      "          AGX_32_S32_L001  AGX_16_S16_L001  ...  AGX_05_S5_L001  \\\n",
      "AAACCCAA         0.030900         0.081055  ...        0.138489   \n",
      "AACCACAT         0.000000         0.064103  ...        0.044355   \n",
      "AAGCCATA         0.024991         0.188441  ...        0.304060   \n",
      "AATTCCTC         0.095679         0.172883  ...        0.133724   \n",
      "ACAGCCGC         0.005053         0.060619  ...        0.085051   \n",
      "...                   ...              ...  ...             ...   \n",
      "TTCCACGT         0.012121         0.041322  ...        0.071186   \n",
      "TTCTCTCC         0.088501         0.130219  ...        0.083817   \n",
      "TTGGGATC         0.085076         0.148452  ...        0.204021   \n",
      "TTTAGTCC         0.047619         0.080364  ...        0.017616   \n",
      "TTTGGTTA         0.050832         0.104380  ...        0.160016   \n",
      "\n",
      "          AGX_08_S8_L001  AGX_18_S18_L001  AGX_11_S11_L001  AGX_02_S2_L001  \\\n",
      "AAACCCAA        0.119144         0.337357         0.234375        0.196299   \n",
      "AACCACAT        0.045817         0.628319         0.169399        0.212963   \n",
      "AAGCCATA        0.151560         0.335561         0.389272        0.269262   \n",
      "AATTCCTC        0.236680         0.307299         0.234272        0.300006   \n",
      "ACAGCCGC        0.049727         0.250933         0.243251        0.135916   \n",
      "...                  ...              ...              ...             ...   \n",
      "TTCCACGT        0.039350         0.244499         0.058884        0.091185   \n",
      "TTCTCTCC        0.134530         0.272272         0.329284        0.209125   \n",
      "TTGGGATC        0.149258         0.263180         0.396758        0.280110   \n",
      "TTTAGTCC        0.101721         0.230527         0.333576        0.216323   \n",
      "TTTGGTTA        0.063276         0.324538         0.334052        0.166623   \n",
      "\n",
      "          AGX_06_S6_L001  AGX_09_S9_L001  AGX_03_S3_L001  AGX_07_S7_L001  \\\n",
      "AAACCCAA        0.078586        0.305191        0.277441        0.101199   \n",
      "AACCACAT        0.535645        0.790073        0.157143        0.039894   \n",
      "AAGCCATA        0.157205        0.387587        0.365200        0.097839   \n",
      "AATTCCTC        0.152737        0.279747        0.339849        0.187208   \n",
      "ACAGCCGC        0.027349        0.169619        0.192940        0.048332   \n",
      "...                  ...             ...             ...             ...   \n",
      "TTCCACGT        0.036810        0.177419        0.131965        0.038029   \n",
      "TTCTCTCC        0.122199        0.134854        0.252083        0.120946   \n",
      "TTGGGATC        0.152152        0.310724        0.401419        0.188686   \n",
      "TTTAGTCC        0.108137        0.160701        0.295664        0.155270   \n",
      "TTTGGTTA        0.155853        0.357855        0.255242        0.161713   \n",
      "\n",
      "          AGX_01_S1_L001  \n",
      "AAACCCAA        0.284418  \n",
      "AACCACAT        0.516245  \n",
      "AAGCCATA        0.348119  \n",
      "AATTCCTC        0.222863  \n",
      "ACAGCCGC        0.186882  \n",
      "...                  ...  \n",
      "TTCCACGT        0.115825  \n",
      "TTCTCTCC        0.152028  \n",
      "TTGGGATC        0.297487  \n",
      "TTTAGTCC        0.218898  \n",
      "TTTGGTTA        0.348226  \n",
      "\n",
      "[68 rows x 32 columns]\n"
     ]
    },
    {
     "name": "stderr",
     "output_type": "stream",
     "text": [
      "/tmp/ipykernel_11378/3680186298.py:8: FutureWarning: The default dtype for empty Series will be 'object' instead of 'float64' in a future version. Specify a dtype explicitly to silence this warning.\n",
      "  sample_sries = pd.Series()\n"
     ]
    }
   ],
   "source": [
    "import pandas as pd\n",
    "\n",
    "ee_dict = {} # dict of series\n",
    "\n",
    "for sample, ld_dict in out_dict.items():\n",
    "    \n",
    "    #print(sample)\n",
    "    sample_sries = pd.Series()\n",
    "    for mm_bc, ld_lst in ld_dict.items():\n",
    "        \n",
    "        #print(ld_lst[0:100])\n",
    "        #print(mm_bc)\n",
    "        edit_eff_proxy = 1 - (ld_lst.count(0) / len(ld_lst))\n",
    "        #print(edit_eff_proxy)\n",
    "        sample_sries[mm_bc] = edit_eff_proxy\n",
    "        ee_dict[sample] = sample_sries\n",
    "        \n",
    "ee_df = pd.DataFrame(ee_dict)\n",
    "print(ee_df)\n",
    "\n",
    "ee_df.to_csv(\"/home/ec2-user/ngs_data/MiSeq_PE150_20240412/3_outs/2024Apr13_ld_defined_ee.csv\")\n",
    "        \n",
    "        \n",
    "        "
   ]
  },
  {
   "cell_type": "code",
   "execution_count": null,
   "id": "0aa70d8b",
   "metadata": {},
   "outputs": [],
   "source": [
    "# read in .csv with annotations of each alignment and its corresponding tile\n",
    "\n",
    "def read_align_annot(in_fn):\n",
    "    \n",
    "    in_df = pd.read_csv(in_fn, index_col = 0, \n",
    "                   header = None)\n",
    "    in_dict = in_df.to_dict().get(1)\n",
    "    print(in_dict)\n",
    "    \n",
    "    return in_dict\n",
    "    \n",
    "read_metadata = read_align_annot(\"/home/ec2-user/ngs_data/MiSeq_PE500_2024Apr01/4_variant_count/translate_sample_sheet.csv\")\n",
    "\n"
   ]
  },
  {
   "cell_type": "code",
   "execution_count": null,
   "id": "847c7917",
   "metadata": {},
   "outputs": [],
   "source": [
    "# now you want to convert DNA --> amino acid sequence , but make sure to trim to keep frame in tact\n",
    "\n",
    "from Bio.Seq import Seq\n",
    "\n",
    "def translate_seq(in_dict, meta_dict):\n",
    "    \n",
    "    aa_dict = defaultdict(list)\n",
    "    \n",
    "    for sample, list_dna in tqdm(in_dict.items()):\n",
    "        \n",
    "        tile_lookup = meta_dict.get(sample)\n",
    "        \n",
    "        print(tile_lookup)\n",
    "        \n",
    "        if tile_lookup == \"t1\": # you should change the process script to only parse in-frame seqs prior to alignment\n",
    "            \n",
    "            #print(sample)\n",
    "            for seq in tqdm(list_dna):\n",
    "                \n",
    "                dna_seq = Seq(seq[0:252])\n",
    "                #print(dna_seq)\n",
    "                aa_seq = dna_seq.translate()\n",
    "                #print(aa_seq)\n",
    "                aa_dict[sample].append(aa_seq)\n",
    "                 \n",
    "        elif tile_lookup == \"t2\": # you should change the process script to only parse in-frame seqs prior to alignment\n",
    "            \n",
    "            for seq in tqdm(list_dna):\n",
    "                \n",
    "                dna_seq = Seq(seq[0:249])\n",
    "                #print(dna_seq)\n",
    "                aa_seq = dna_seq.translate()\n",
    "                #print(aa_seq)\n",
    "                aa_dict[sample].append(aa_seq)\n",
    "                \n",
    "        elif tile_lookup == \"t3\": # you should change the process script to only parse in-frame seqs prior to alignment\n",
    "            \n",
    "            for seq in tqdm(list_dna):\n",
    "                \n",
    "                dna_seq = Seq(seq[2:261])\n",
    "                #print(dna_seq)\n",
    "                aa_seq = dna_seq.translate()\n",
    "                #print(aa_seq)\n",
    "                aa_dict[sample].append(aa_seq)\n",
    "                \n",
    "        elif tile_lookup == \"t4\": # you should change the process script to only parse in-frame seqs prior to alignment\n",
    "            \n",
    "            for seq in tqdm(list_dna):\n",
    "                \n",
    "                dna_seq = Seq(seq[0:237])\n",
    "                #print(dna_seq)\n",
    "                aa_seq = dna_seq.translate()\n",
    "                #print(aa_seq)\n",
    "                aa_dict[sample].append(aa_seq)\n",
    "                                \n",
    "        elif tile_lookup == \"t5\": # you should change the process script to only parse in-frame seqs prior to alignment\n",
    "            \n",
    "            for seq in tqdm(list_dna):\n",
    "                \n",
    "                dna_seq = Seq(seq[0:276])\n",
    "                print(dna_seq)\n",
    "                aa_seq = dna_seq.translate()\n",
    "                print(aa_seq)\n",
    "                aa_dict[sample].append(aa_seq)  \n",
    "                \n",
    "    return aa_dict\n",
    "            \n",
    "translate_1 = translate_seq(apr2024_read, read_metadata)\n",
    "        \n",
    "        "
   ]
  },
  {
   "cell_type": "code",
   "execution_count": null,
   "id": "90b1abcf",
   "metadata": {},
   "outputs": [],
   "source": [
    "# now with the list of aa_seqs in each tile; compile a dataframe with samples as columns and freq as entries\n",
    "\n",
    "def count_aa_freq(in_dict):\n",
    "    \n",
    "    master_dict = defaultdict(dict)\n",
    "    \n",
    "    for sample, aa_seq_lst in in_dict.items():\n",
    "        \n",
    "        #print(sample)\n",
    "        #print(aa_seq_lst[0:100])\n",
    "        \n",
    "        freq_dict = defaultdict(int)\n",
    "        \n",
    "        for aa_seq in aa_seq_lst:\n",
    "            \n",
    "            #print(str(aa_seq))\n",
    "            \n",
    "            if str(aa_seq) not in freq_dict.keys():\n",
    "                \n",
    "                #print(aa_seq)\n",
    "                \n",
    "                freq_dict[str(aa_seq)] = 1\n",
    "                \n",
    "            elif str(aa_seq) in freq_dict.keys():\n",
    "                \n",
    "                #print(aa_seq)\n",
    "                freq_dict[str(aa_seq)] += 1\n",
    "    \n",
    "        master_dict[sample].update(freq_dict)\n",
    "    \n",
    "    master_df = pd.DataFrame.from_dict(master_dict)\n",
    "    \n",
    "    print(master_df)\n",
    "    \n",
    "    return master_df\n",
    "                   \n",
    "freq_1 = count_aa_freq(translate_1)\n"
   ]
  },
  {
   "cell_type": "code",
   "execution_count": null,
   "id": "bd9a5b5b",
   "metadata": {},
   "outputs": [],
   "source": [
    "from matplotlib import pyplot as plt\n",
    "\n",
    "plt.hist(freq_1[\"AGX-01_S1_L001\"], bins = 100)\n",
    "plt.yscale(\"log\")\n"
   ]
  },
  {
   "cell_type": "code",
   "execution_count": null,
   "id": "08c6005f",
   "metadata": {},
   "outputs": [],
   "source": [
    "freq_1.to_csv(\"/home/ec2-user/ngs_data/MiSeq_PE500_2024Apr01/4_variant_count/2024Apr05_tile_variant_abundance.csv\")"
   ]
  },
  {
   "cell_type": "code",
   "execution_count": null,
   "id": "2784b8e9",
   "metadata": {},
   "outputs": [],
   "source": [
    "# read in frequency dataframe to analyze variant abundance across amino acid position\n",
    "\n",
    "import pandas as pd\n",
    "\n",
    "def read_df(in_fp):\n",
    "    \n",
    "    in_df = pd.read_csv(in_fp, index_col = 0)\n",
    "    print(in_df)\n",
    "    \n",
    "    return in_df\n",
    "    \n",
    "read_1 = read_df(\"../../ngs_data/MiSeq_PE500_011224/4_variant_count/2024Jan16_tile_variant_abundance_mut_call.csv\")\n"
   ]
  },
  {
   "cell_type": "code",
   "execution_count": null,
   "id": "c26b6eb6",
   "metadata": {},
   "outputs": [],
   "source": [
    "#!{sys.executable} -m pip install levenshtein\n",
    "\n",
    "from Levenshtein import distance as ld\n"
   ]
  },
  {
   "cell_type": "code",
   "execution_count": null,
   "id": "c9ccd503",
   "metadata": {},
   "outputs": [],
   "source": [
    "\n",
    "def add_mut_col(in_df):\n",
    "        \n",
    "    tile_seq_dict = {\"t1\": \"MIRNKAFVVRLYPNAAQTELINRTLGSARFVYNHFLARRIAAYKESGKGLTYGQTSSELTLLKQAEETSWLSEVDKFALQNSLK\", \n",
    "                     \"t2\": \"KNLETAYKNFFRTVKQSGKKVGFPRFRKKRTGESYRTQFTNNNIQIGEGRLKLPKLGWVKTKGQQDIQGKILNVTVRRIHEGH\", \n",
    "                     \"t3\": \"YEASVLCEVEIPYLPAAPKFAAGVDVGIKDFAIVTDGVRFKHEQNPKYYRSTLKRLRKAQQTLSRRKKGSARYGKAKTKLARIHKR\", \n",
    "                     \"t4\": \"RIVNKRQDFLHKLTTSLVREYEIIGTEHLKPDNMRKNRRLALSISDAGWGEFIRQLEYKAAWYGRLVSKVSPYFPSSQL\",\n",
    "                     \"t5\": \"LCHDCGFKNPEVKNLAVRTWTCPNCGETHDRDENAALNIRREALVAAGISDTLNAHGGYVRPASAGNGLRSENHATLVVGGSGPPKKKRKV*\"}\n",
    "    \n",
    "    \n",
    "    variant_seqs = list(in_df.index)\n",
    "    \n",
    "    #print(variant_seqs[0:100])\n",
    "    \n",
    "    for variant_seq in tqdm(variant_seqs):\n",
    "        \n",
    "        dist_dict = {}\n",
    "        \n",
    "        for tile_id, tile_seq in tile_seq_dict.items():\n",
    "            \n",
    "            dist = ld(variant_seq, tile_seq)\n",
    "            #print(dist)\n",
    "            dist_dict[tile_seq] = dist\n",
    "            \n",
    "        #print(dist_dict)\n",
    "        \n",
    "        match = min(dist_dict, key=dist_dict.get)\n",
    "        #print(match)\n",
    "            \n",
    "        pos = 1\n",
    "        \n",
    "        #print(seq_str)\n",
    "        \n",
    "        mast_str = \"\"\n",
    "        \n",
    "        for aa_1 in variant_seq:\n",
    "            \n",
    "            if aa_1 != match[pos-1]:\n",
    "            \n",
    "                mut_str = match[pos-1] + str(pos) + aa_1\n",
    "                #print(mut_str)\n",
    "                mast_str += mut_str\n",
    "            \n",
    "            pos += 1\n",
    "        \n",
    "        print(mast_str)\n",
    "        \n",
    "        in_df.loc[variant_seq, \"mut_call\"] = mast_str\n",
    "\n",
    "        \n",
    "    print(in_df[\"mut_call\"])\n",
    "    \n",
    "    return in_df\n",
    "\n",
    "add_1 = add_mut_col(freq_1)\n",
    "\n"
   ]
  },
  {
   "cell_type": "code",
   "execution_count": null,
   "id": "329c6132",
   "metadata": {},
   "outputs": [],
   "source": [
    "# you should now normalize each column by the column sum (proportion of variants in each group)\n",
    "# then you can use this metric to compare between the gfp-pos vs. gfp-neg groups and normalize to the wt\n",
    "\n",
    "print(add_1)"
   ]
  },
  {
   "cell_type": "code",
   "execution_count": null,
   "id": "115b437c",
   "metadata": {},
   "outputs": [],
   "source": [
    "add_1.to_csv(\"/home/ec2-user/ngs_data/MiSeq_PE500_2024Apr01/4_variant_count/2024Apr04_tile_variant_abundance_mut_call.csv\")"
   ]
  },
  {
   "cell_type": "code",
   "execution_count": null,
   "id": "d9e3d166",
   "metadata": {},
   "outputs": [],
   "source": [
    "# let's normalize the dataframe prior to filtering variants below a certain frequency threshold\n",
    "\n",
    "\n",
    "def norm_df(in_df):\n",
    "    \n",
    "    samples = list(in_df.drop(\"mut_call\", axis = 1))\n",
    "    print(in_df)\n",
    "    \n",
    "    norm_df = pd.DataFrame(index = in_df.index)\n",
    "    \n",
    "    for sample in samples:\n",
    "        \n",
    "        sries_sum = in_df[sample].sum()\n",
    "        #print(sries_sum)\n",
    "        \n",
    "        sries_norm = in_df[sample] / sries_sum\n",
    "        \n",
    "        #print(sries_norm)\n",
    "        norm_df[sample] = sries_norm\n",
    "    \n",
    "    #print(norm_df)\n",
    "    norm_df[\"mut_call\"] = in_df[\"mut_call\"]\n",
    "    \n",
    "    return norm_df\n",
    "        \n",
    "norm_1 = norm_df(freq_1)\n",
    "\n"
   ]
  },
  {
   "cell_type": "code",
   "execution_count": null,
   "id": "93267584",
   "metadata": {},
   "outputs": [],
   "source": [
    "print(norm_1)\n",
    "\n",
    "norm_1.to_csv(\"/home/ec2-user/ngs_data/MiSeq_PE500_2024Apr01/4_variant_count/2024Apr04_tile_variant_abundance_mut_call_norm.csv\")\n",
    "\n"
   ]
  },
  {
   "cell_type": "code",
   "execution_count": null,
   "id": "d97cef2d",
   "metadata": {},
   "outputs": [],
   "source": [
    "import numpy as np\n",
    "from matplotlib import pyplot as plt\n",
    "\n",
    "for sample in list(norm_1):\n",
    "    \n",
    "    plt.hist(norm_1[sample], bins = 100)\n",
    "    plt.xlim(0, .1)\n",
    "\n",
    "    \n",
    "    \n",
    "    "
   ]
  },
  {
   "cell_type": "code",
   "execution_count": null,
   "id": "d28372c1",
   "metadata": {},
   "outputs": [],
   "source": [
    "# now filter dfs by frequency cutoffs\n",
    "\n",
    "def filter_df(in_df, cutoff):\n",
    "    \n",
    "    #print(in_df)\n",
    "    mut_call = in_df[\"mut_call\"]\n",
    "    filter_df = pd.DataFrame(index = in_df.index)\n",
    "    \n",
    "    samples = list(in_df)\n",
    "    \n",
    "    for sample in samples:\n",
    "        \n",
    "        if sample != \"mut_call\":\n",
    "            \n",
    "            sries = in_df[sample]\n",
    "            sries_filter = sries[sries >= cutoff]\n",
    "            filter_df[sample] = sries_filter\n",
    "            \n",
    "        \n",
    "    print(len(filter_df))\n",
    "    drop_df = filter_df.dropna(how = \"all\")\n",
    "    print(len(drop_df))\n",
    "    \n",
    "    drop_df[\"mut_call\"] = mut_call\n",
    "    \n",
    "    return drop_df\n",
    "    \n",
    "filter_1 = filter_df(norm_1, 0.001)\n",
    "filter_2 = filter_df(norm_1, 0.01)\n",
    "filter_3 = filter_df(norm_1, 0.05)\n",
    "    \n",
    "    \n",
    "    "
   ]
  },
  {
   "cell_type": "code",
   "execution_count": null,
   "id": "19041c65",
   "metadata": {},
   "outputs": [],
   "source": [
    "print(filter_1)"
   ]
  },
  {
   "cell_type": "code",
   "execution_count": null,
   "id": "7947de3f",
   "metadata": {},
   "outputs": [],
   "source": [
    "# write filtered dfs to file\n",
    "\n",
    "filter_1.to_csv(\"/home/ec2-user/ngs_data/MiSeq_PE500_2024Apr01/4_variant_count/2024Apr04_tile_variant_abundance_mut_call_filter_1e-3.csv\")\n",
    "filter_2.to_csv(\"/home/ec2-user/ngs_data/MiSeq_PE500_2024Apr01/4_variant_count/2024Apr04_tile_variant_abundance_mut_call_filter_1e-2.csv\")\n",
    "filter_3.to_csv(\"/home/ec2-user/ngs_data/MiSeq_PE500_2024Apr01/4_variant_count/2024Apr04_tile_variant_abundance_mut_call_filter_5e-2.csv\")\n",
    "\n"
   ]
  },
  {
   "cell_type": "code",
   "execution_count": null,
   "id": "a09af73d",
   "metadata": {},
   "outputs": [],
   "source": [
    "# parse amino acid sequence and compute frequency at each position (so freq_df with index as amino acid identity)\n",
    "# column number is length of tile and entry is the frequency of variants found at each position\n",
    "\n",
    "from tqdm.notebook import tqdm\n",
    "\n",
    "def freq_df_loc(in_df, samples, tile_len):\n",
    "\n",
    "    sub_df = in_df[samples].dropna(how = \"any\")\n",
    "    print(len(sub_df))\n",
    "    amino_acids = [\"A\", \"R\", \"N\", \"D\", \"C\", \"Q\", \"E\", \"G\", \"H\", \"I\", \"L\", \"K\", \"M\", \"F\", \"P\", \"S\",\n",
    "                \"T\", \"W\", \"Y\", \"V\", \"*\"]\n",
    "    \n",
    "    freq_df = pd.DataFrame(index = amino_acids, columns = range(0, tile_len)).fillna(0)\n",
    "    #print(freq_df)\n",
    "    \n",
    "    for index, row in tqdm(sub_df.iterrows()):\n",
    "        \n",
    "        #print(index)\n",
    "        avg = (row[samples[0]] + row[samples[1]]) / 2\n",
    "        #print(avg)\n",
    "        pos = 0\n",
    "        for base in index:\n",
    "            \n",
    "            #print(base)\n",
    "            freq_df.loc[base, pos] += avg\n",
    "            pos += 1\n",
    "        \n",
    "    #print(freq_df)\n",
    "    return freq_df\n",
    "        \n",
    "freq_t1 = freq_df_loc(freq_1, [\"AGX_73_S1_L001_t1\", \"AGX_78_S6_L001_t1\"], 84)\n",
    "#freq_t2 = freq_df_loc(read_1, [\"agx87\", \"agx88\"], 83)\n",
    "#freq_t3 = freq_df_loc(read_1, [\"agx95\", \"agx96\"], 86)\n",
    "#freq_t4 = freq_df_loc(read_1, [\"agx103\", \"agx104\"], 79)\n",
    "#freq_t5 = freq_df_loc(read_1, [\"agx111\", \"agx112\"], 92)\n",
    "\n",
    "\n"
   ]
  },
  {
   "cell_type": "code",
   "execution_count": null,
   "id": "1a9afa6d",
   "metadata": {},
   "outputs": [],
   "source": [
    "import seaborn as sns\n",
    "from matplotlib import pyplot as plt\n",
    "import numpy as np\n",
    "\n",
    "def plt_hmap(in_df):\n",
    "    \n",
    "    norm_df = in_df / in_df.sum()\n",
    "    #print(norm_df)\n",
    "    #print(freq_t1)\n",
    "    log_df = np.log10(in_df)\n",
    "    #print(log_df)\n",
    "    fig, ax = plt.subplots(figsize=(20,20))  \n",
    "    #sns.heatmap(norm_df, xticklabels = True, cmap = \"crest\")\n",
    "    #plt.show()\n",
    "    sns.heatmap(log_df, xticklabels = True, cmap = \"crest\", vmin = 3, vmax = 14)\n",
    "    \n",
    "    return norm_df\n",
    "\n",
    "hmap_t1 = plt_hmap(freq_t1)\n",
    "#hmap_t2 = plt_hmap(freq_t2)\n",
    "#hmap_t3 = plt_hmap(freq_t3)\n",
    "#hmap_t4 = plt_hmap(freq_t4)\n",
    "#hmap_t5 = plt_hmap(freq_t5)\n"
   ]
  },
  {
   "cell_type": "code",
   "execution_count": null,
   "id": "009bf92e",
   "metadata": {},
   "outputs": [],
   "source": [
    "# also plot the normalized frequency of \"positively charged residues across the tile\"\n",
    "\n",
    "def plt_pos_charge(in_df):\n",
    "    \n",
    "    t_df = in_df.T\n",
    "    #print(t_df)\n",
    "    \n",
    "    sub_df = t_df[[\"K\", \"R\", \"H\"]]\n",
    "    sub_df['Total'] = sub_df.sum(axis=1)\n",
    "    print(sub_df)\n",
    "    \n",
    "    plt.scatter(sub_df.index, sub_df[\"Total\"])\n",
    "    plt.scatter(sub_df.index, sub_df[\"K\"])\n",
    "    plt.scatter(sub_df.index, sub_df[\"R\"])\n",
    "    plt.scatter(sub_df.index, sub_df[\"H\"])\n",
    "    \n",
    "plt_t1 = plt_pos_charge(hmap_t1)\n",
    "#plt_t2 = plt_pos_charge(hmap_t2)\n",
    "#plt_t3 = plt_pos_charge(hmap_t3)\n",
    "#plt_t4 = plt_pos_charge(hmap_t4)\n",
    "#plt_t5 = plt_pos_charge(hmap_t5)"
   ]
  },
  {
   "cell_type": "code",
   "execution_count": null,
   "id": "e4ad9ec2",
   "metadata": {},
   "outputs": [],
   "source": [
    "# now plot the diversity across the positions -- this should show mutated regions\n",
    "\n",
    "from scipy.stats import entropy\n",
    "\n",
    "def plt_mut_diversity(in_df, title):\n",
    "    \n",
    "    t_df = in_df.T\n",
    "    for pos, row in t_df.iterrows():\n",
    "        \n",
    "        H = entropy(row, base=2)\n",
    "        t_df.loc[pos, \"entrpy\"] = H\n",
    "        \n",
    "    #print(t_df)\n",
    "    \n",
    "    plt.scatter(t_df.index, t_df[\"entrpy\"])\n",
    "    plt.ylim(-0.1, 2)\n",
    "    #plt.savefig(\"../../ngs_data/MiSeq_PE600_102323/4_outs/\" + title, bbox_inches = \"tight\")\n",
    "    plt.ylabel(\"variant diversity (bits)\")\n",
    "    plt.xlabel(\"amino acid position\")\n",
    "    plt.title(title.split(\".\")[0])\n",
    "    plt.show()\n",
    "        \n",
    "H_t1 = plt_mut_diversity(freq_t1, \"tile1_diversity_plot.pdf\")\n",
    "#H_t2 = plt_mut_diversity(freq_t2, \"tile2_diversity_plot.pdf\")\n",
    "#H_t3 = plt_mut_diversity(freq_t3, \"tile3_diversity_plot.pdf\")\n",
    "#H_t4 = plt_mut_diversity(freq_t4, \"tile4_diversity_plot.pdf\")\n",
    "#H_t5 = plt_mut_diversity(freq_t5, \"tile5_diversity_plot.pdf\")\n",
    "\n",
    "\n"
   ]
  },
  {
   "cell_type": "code",
   "execution_count": null,
   "id": "d8945bef",
   "metadata": {},
   "outputs": [],
   "source": []
  }
 ],
 "metadata": {
  "kernelspec": {
   "display_name": "Python 3 (ipykernel)",
   "language": "python",
   "name": "python3"
  },
  "language_info": {
   "codemirror_mode": {
    "name": "ipython",
    "version": 3
   },
   "file_extension": ".py",
   "mimetype": "text/x-python",
   "name": "python",
   "nbconvert_exporter": "python",
   "pygments_lexer": "ipython3",
   "version": "3.10.9"
  }
 },
 "nbformat": 4,
 "nbformat_minor": 5
}
